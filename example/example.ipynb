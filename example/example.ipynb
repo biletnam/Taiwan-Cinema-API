{
 "cells": [
  {
   "cell_type": "code",
   "execution_count": 1,
   "metadata": {},
   "outputs": [],
   "source": [
    "import sys, os\n",
    "sys.path.append(os.path.dirname(os.path.realpath('.')))"
   ]
  },
  {
   "cell_type": "code",
   "execution_count": 2,
   "metadata": {},
   "outputs": [],
   "source": [
    "from twmovieapi import User, mm"
   ]
  },
  {
   "cell_type": "code",
   "execution_count": 3,
   "metadata": {},
   "outputs": [
    {
     "data": {
      "text/plain": [
       "<Response [200]>"
      ]
     },
     "execution_count": 3,
     "metadata": {},
     "output_type": "execute_result"
    }
   ],
   "source": [
    "user = User('config.json')\n",
    "book = mm.Book(user)\n",
    "book.login()"
   ]
  },
  {
   "cell_type": "markdown",
   "metadata": {},
   "source": [
    "## Get Movie Info"
   ]
  },
  {
   "cell_type": "code",
   "execution_count": 7,
   "metadata": {
    "scrolled": false
   },
   "outputs": [],
   "source": [
    "# get mirama movie screenings info\n",
    "info = mm.MovieInfo()\n",
    "movies = [[m,d,t] for m, d, t in info.get('MM')]"
   ]
  },
  {
   "cell_type": "code",
   "execution_count": 5,
   "metadata": {},
   "outputs": [
    {
     "data": {
      "text/plain": [
       "'1001'"
      ]
     },
     "execution_count": 5,
     "metadata": {},
     "output_type": "execute_result"
    }
   ],
   "source": [
    "cid = info.getcid(\"MM\")\n",
    "cid"
   ]
  },
  {
   "cell_type": "code",
   "execution_count": 8,
   "metadata": {},
   "outputs": [
    {
     "data": {
      "text/plain": [
       "'800540'"
      ]
     },
     "execution_count": 8,
     "metadata": {},
     "output_type": "execute_result"
    }
   ],
   "source": [
    "sid = movies[0][2]['id']\n",
    "sid"
   ]
  },
  {
   "cell_type": "code",
   "execution_count": 10,
   "metadata": {},
   "outputs": [
    {
     "name": "stdout",
     "output_type": "stream",
     "text": [
      "\u001b[30m\u001b[40m    \u001b[40m    \u001b[40m    \u001b[41m A4 \u001b[41m A5 \u001b[40m    \u001b[40m    \u001b[40m    \u001b[41m A8 \u001b[41m A9 \u001b[41mA10 \u001b[41mA11 \u001b[41mA12 \u001b[41mA13 \u001b[41mA14 \u001b[41mA15 \u001b[41mA16 \u001b[41mA17 \u001b[41mA18 \u001b[41mA19 \u001b[40m    \u001b[40m    \u001b[41m W1 \u001b[40m    \u001b[40m    \u001b[40m    \u001b[40m\n",
      "\u001b[40m    \u001b[40m    \u001b[40m    \u001b[42m B4 \u001b[42m B5 \u001b[40m    \u001b[40m    \u001b[40m    \u001b[42m B8 \u001b[42m B9 \u001b[42mB10 \u001b[42mB11 \u001b[42mB12 \u001b[42mB13 \u001b[42mB14 \u001b[42mB15 \u001b[42mB16 \u001b[42mB17 \u001b[42mB18 \u001b[42mB19 \u001b[40m    \u001b[40m    \u001b[42mB21 \u001b[42mB22 \u001b[40m    \u001b[40m    \u001b[40m\n",
      "\u001b[40m    \u001b[40m    \u001b[40m    \u001b[42m C4 \u001b[42m C5 \u001b[40m    \u001b[40m    \u001b[40m    \u001b[42m C8 \u001b[42m C9 \u001b[42mC10 \u001b[42mC11 \u001b[42mC12 \u001b[42mC13 \u001b[42mC14 \u001b[42mC15 \u001b[42mC16 \u001b[42mC17 \u001b[42mC18 \u001b[42mC19 \u001b[40m    \u001b[40m    \u001b[42mC21 \u001b[42mC22 \u001b[42mC23 \u001b[42mC24 \u001b[40m\n",
      "\u001b[40m    \u001b[40m    \u001b[40m    \u001b[42m D4 \u001b[42m D5 \u001b[40m    \u001b[40m    \u001b[40m    \u001b[42m D8 \u001b[42m D9 \u001b[42mD10 \u001b[42mD11 \u001b[42mD12 \u001b[42mD13 \u001b[42mD14 \u001b[42mD15 \u001b[42mD16 \u001b[42mD17 \u001b[42mD18 \u001b[42mD19 \u001b[40m    \u001b[40m    \u001b[42mD21 \u001b[42mD22 \u001b[42mD23 \u001b[42mD24 \u001b[40m\n",
      "\u001b[40m    \u001b[40m    \u001b[40m    \u001b[42m E4 \u001b[42m E5 \u001b[40m    \u001b[40m    \u001b[40m    \u001b[42m E8 \u001b[42m E9 \u001b[42mE10 \u001b[42mE11 \u001b[42mE12 \u001b[42mE13 \u001b[42mE14 \u001b[42mE15 \u001b[42mE16 \u001b[42mE17 \u001b[42mE18 \u001b[42mE19 \u001b[40m    \u001b[40m    \u001b[42mE21 \u001b[42mE22 \u001b[42mE23 \u001b[42mE24 \u001b[40m\n",
      "\u001b[40m    \u001b[40m    \u001b[40m    \u001b[42m F4 \u001b[42m F5 \u001b[40m    \u001b[40m    \u001b[40m    \u001b[42m F8 \u001b[42m F9 \u001b[42mF10 \u001b[42mF11 \u001b[42mF12 \u001b[42mF13 \u001b[41mF14 \u001b[42mF15 \u001b[42mF16 \u001b[42mF17 \u001b[42mF18 \u001b[42mF19 \u001b[40m    \u001b[40m    \u001b[42mF21 \u001b[42mF22 \u001b[42mF23 \u001b[42mF24 \u001b[40m\n",
      "\u001b[40m    \u001b[40m    \u001b[40m    \u001b[41m G4 \u001b[41m G5 \u001b[40m    \u001b[40m    \u001b[40m    \u001b[42m G8 \u001b[42m G9 \u001b[42mG10 \u001b[42mG11 \u001b[42mG12 \u001b[41mG13 \u001b[41mG14 \u001b[42mG15 \u001b[41mG16 \u001b[41mG17 \u001b[41mG18 \u001b[41mG19 \u001b[40m    \u001b[40m    \u001b[42mG21 \u001b[42mG22 \u001b[42mG23 \u001b[42mG24 \u001b[40m\n",
      "\u001b[40m    \u001b[40m    \u001b[40m    \u001b[40m    \u001b[40m    \u001b[40m    \u001b[40m    \u001b[40m    \u001b[40m    \u001b[40m    \u001b[40m    \u001b[40m    \u001b[40m    \u001b[40m    \u001b[40m    \u001b[40m    \u001b[40m    \u001b[40m    \u001b[40m    \u001b[40m    \u001b[40m    \u001b[40m    \u001b[40m    \u001b[40m    \u001b[40m    \u001b[40m    \u001b[40m\n",
      "\u001b[42m H1 \u001b[42m H2 \u001b[42m H3 \u001b[42m H4 \u001b[42m H5 \u001b[40m    \u001b[40m    \u001b[40m    \u001b[41m H8 \u001b[41m H9 \u001b[41mH10 \u001b[41mH11 \u001b[41mH12 \u001b[41mH13 \u001b[41mH14 \u001b[41mH15 \u001b[41mH16 \u001b[41mH17 \u001b[41mH18 \u001b[41mH19 \u001b[40m    \u001b[40m    \u001b[41mH21 \u001b[41mH22 \u001b[42mH23 \u001b[42mH24 \u001b[40m\n",
      "\u001b[42m I1 \u001b[42m I2 \u001b[42m I3 \u001b[42m I4 \u001b[42m I5 \u001b[40m    \u001b[40m    \u001b[40m    \u001b[41m I8 \u001b[41m I9 \u001b[41mI10 \u001b[41mI11 \u001b[41mI12 \u001b[41mI13 \u001b[41mI14 \u001b[41mI15 \u001b[41mI16 \u001b[41mI17 \u001b[41mI18 \u001b[40m    \u001b[40m    \u001b[40m    \u001b[42mI21 \u001b[42mI22 \u001b[42mI23 \u001b[42mI24 \u001b[40m\n",
      "\u001b[42m J1 \u001b[42m J2 \u001b[42m J3 \u001b[42m J4 \u001b[42m J5 \u001b[40m    \u001b[40m    \u001b[40m    \u001b[41m J8 \u001b[41m J9 \u001b[42mJ10 \u001b[42mJ11 \u001b[42mJ12 \u001b[41mJ13 \u001b[41mJ14 \u001b[41mJ15 \u001b[41mJ16 \u001b[42mJ17 \u001b[42mJ18 \u001b[42mJ19 \u001b[40m    \u001b[40m    \u001b[42mJ21 \u001b[42mJ22 \u001b[42mJ23 \u001b[42mJ24 \u001b[40m\n",
      "\u001b[42m K1 \u001b[42m K2 \u001b[42m K3 \u001b[42m K4 \u001b[42m K5 \u001b[40m    \u001b[40m    \u001b[40m    \u001b[42m K8 \u001b[42m K9 \u001b[42mK10 \u001b[42mK11 \u001b[41mK12 \u001b[41mK13 \u001b[41mK14 \u001b[42mK15 \u001b[42mK16 \u001b[42mK17 \u001b[42mK18 \u001b[40m    \u001b[40m    \u001b[40m    \u001b[42mK21 \u001b[42mK22 \u001b[42mK23 \u001b[42mK24 \u001b[40m\n",
      "\u001b[42m L1 \u001b[42m L2 \u001b[42m L3 \u001b[42m L4 \u001b[42m L5 \u001b[40m    \u001b[42m L6 \u001b[41m L7 \u001b[42m L8 \u001b[42m L9 \u001b[41mL10 \u001b[41mL11 \u001b[41mL12 \u001b[41mL13 \u001b[42mL14 \u001b[42mL15 \u001b[42mL16 \u001b[42mL17 \u001b[42mL18 \u001b[41mL19 \u001b[41mL20 \u001b[40m    \u001b[42mL21 \u001b[42mL22 \u001b[42mL23 \u001b[42mL24 \u001b[40m\n",
      "\u001b[0m\n"
     ]
    }
   ],
   "source": [
    "book.set_screenings(cid, sid)\n",
    "\n",
    "response = book.set_ticket(discounted=1)\n",
    "\n",
    "# parse seat info\n",
    "seatdict = mm.seat.get_seat(response)\n",
    "\n",
    "# print layout\n",
    "layout = mm.seat.gen_layout(seatdict)\n",
    "mm.seat.print_seating_chart(layout)"
   ]
  },
  {
   "cell_type": "code",
   "execution_count": null,
   "metadata": {
    "scrolled": true
   },
   "outputs": [],
   "source": [
    "# set seat\n",
    "response = book.set_seat([seatdict['B12'][0],\n",
    "                          seatdict['B11'][0]])\n",
    "\n",
    "# you will seat final confirm page\n",
    "#print(response.content.decode())"
   ]
  },
  {
   "cell_type": "code",
   "execution_count": 12,
   "metadata": {},
   "outputs": [
    {
     "data": {
      "text/plain": [
       "<Response [200]>"
      ]
     },
     "execution_count": 12,
     "metadata": {},
     "output_type": "execute_result"
    }
   ],
   "source": [
    "# confirm\n",
    "book.confirm()"
   ]
  },
  {
   "cell_type": "code",
   "execution_count": null,
   "metadata": {},
   "outputs": [],
   "source": []
  }
 ],
 "metadata": {
  "kernelspec": {
   "display_name": "Python 3",
   "language": "python",
   "name": "python3"
  },
  "language_info": {
   "codemirror_mode": {
    "name": "ipython",
    "version": 3
   },
   "file_extension": ".py",
   "mimetype": "text/x-python",
   "name": "python",
   "nbconvert_exporter": "python",
   "pygments_lexer": "ipython3",
   "version": "3.6.3"
  }
 },
 "nbformat": 4,
 "nbformat_minor": 2
}
