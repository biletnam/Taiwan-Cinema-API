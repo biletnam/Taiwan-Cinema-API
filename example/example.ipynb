{
 "cells": [
  {
   "cell_type": "code",
   "execution_count": 1,
   "metadata": {},
   "outputs": [],
   "source": [
    "import sys, os\n",
    "sys.path.append(os.path.dirname(os.path.realpath('.')))"
   ]
  },
  {
   "cell_type": "code",
   "execution_count": 2,
   "metadata": {},
   "outputs": [],
   "source": [
    "from twmovieapi import User, mm"
   ]
  },
  {
   "cell_type": "code",
   "execution_count": 3,
   "metadata": {},
   "outputs": [
    {
     "data": {
      "text/plain": [
       "<Response [200]>"
      ]
     },
     "execution_count": 3,
     "metadata": {},
     "output_type": "execute_result"
    }
   ],
   "source": [
    "user = User('config.json')\n",
    "book = mm.Book(user)\n",
    "book.login()"
   ]
  },
  {
   "cell_type": "markdown",
   "metadata": {},
   "source": [
    "## Get Movie Info"
   ]
  },
  {
   "cell_type": "code",
   "execution_count": 7,
   "metadata": {
    "scrolled": false
   },
   "outputs": [],
   "source": [
    "# get mirama movie screenings info\n",
    "info = mm.MovieInfo()\n",
    "movies = [[m,d,t] for m, d, t in info.get('MM')]"
   ]
  },
  {
   "cell_type": "code",
   "execution_count": 5,
   "metadata": {},
   "outputs": [
    {
     "data": {
      "text/plain": [
       "'1001'"
      ]
     },
     "execution_count": 5,
     "metadata": {},
     "output_type": "execute_result"
    }
   ],
   "source": [
    "cid = info.getcid(\"MM\")\n",
    "cid"
   ]
  },
  {
   "cell_type": "code",
   "execution_count": 8,
   "metadata": {},
   "outputs": [
    {
     "data": {
      "text/plain": [
       "'800540'"
      ]
     },
     "execution_count": 8,
     "metadata": {},
     "output_type": "execute_result"
    }
   ],
   "source": [
    "sid = movies[0][2]['id']\n",
    "sid"
   ]
  },
  {
   "cell_type": "code",
   "execution_count": 10,
   "metadata": {},
   "outputs": [
    {
     "name": "stdout",
     "output_type": "stream",
     "text": [
      "\u001b[30m\u001b[40m    \u001b[40m    \u001b[40m    \u001b[41m A4 \u001b[41m A5 \u001b[40m    \u001b[40m    \u001b[40m    \u001b[41m A8 \u001b[41m A9 \u001b[41mA10 \u001b[41mA11 \u001b[41mA12 \u001b[41mA13 \u001b[41mA14 \u001b[41mA15 \u001b[41mA16 \u001b[41mA17 \u001b[41mA18 \u001b[41mA19 \u001b[40m    \u001b[40m    \u001b[41m W1 \u001b[40m    \u001b[40m    \u001b[40m    \u001b[40m\n",
      "\u001b[40m    \u001b[40m    \u001b[40m    \u001b[42m B4 \u001b[42m B5 \u001b[40m    \u001b[40m    \u001b[40m    \u001b[42m B8 \u001b[42m B9 \u001b[42mB10 \u001b[42mB11 \u001b[42mB12 \u001b[42mB13 \u001b[42mB14 \u001b[42mB15 \u001b[42mB16 \u001b[42mB17 \u001b[42mB18 \u001b[42mB19 \u001b[40m    \u001b[40m    \u001b[42mB21 \u001b[42mB22 \u001b[40m    \u001b[40m    \u001b[40m\n",
      "\u001b[40m    \u001b[40m    \u001b[40m    \u001b[42m C4 \u001b[42m C5 \u001b[40m    \u001b[40m    \u001b[40m    \u001b[42m C8 \u001b[42m C9 \u001b[42mC10 \u001b[42mC11 \u001b[42mC12 \u001b[42mC13 \u001b[42mC14 \u001b[42mC15 \u001b[42mC16 \u001b[42mC17 \u001b[42mC18 \u001b[42mC19 \u001b[40m    \u001b[40m    \u001b[42mC21 \u001b[42mC22 \u001b[42mC23 \u001b[42mC24 \u001b[40m\n",
      "\u001b[40m    \u001b[40m    \u001b[40m    \u001b[42m D4 \u001b[42m D5 \u001b[40m    \u001b[40m    \u001b[40m    \u001b[42m D8 \u001b[42m D9 \u001b[42mD10 \u001b[42mD11 \u001b[42mD12 \u001b[42mD13 \u001b[42mD14 \u001b[42mD15 \u001b[42mD16 \u001b[42mD17 \u001b[42mD18 \u001b[42mD19 \u001b[40m    \u001b[40m    \u001b[42mD21 \u001b[42mD22 \u001b[42mD23 \u001b[42mD24 \u001b[40m\n",
      "\u001b[40m    \u001b[40m    \u001b[40m    \u001b[42m E4 \u001b[42m E5 \u001b[40m    \u001b[40m    \u001b[40m    \u001b[42m E8 \u001b[42m E9 \u001b[42mE10 \u001b[42mE11 \u001b[42mE12 \u001b[42mE13 \u001b[42mE14 \u001b[42mE15 \u001b[42mE16 \u001b[42mE17 \u001b[42mE18 \u001b[42mE19 \u001b[40m    \u001b[40m    \u001b[42mE21 \u001b[42mE22 \u001b[42mE23 \u001b[42mE24 \u001b[40m\n",
      "\u001b[40m    \u001b[40m    \u001b[40m    \u001b[42m F4 \u001b[42m F5 \u001b[40m    \u001b[40m    \u001b[40m    \u001b[42m F8 \u001b[42m F9 \u001b[42mF10 \u001b[42mF11 \u001b[42mF12 \u001b[42mF13 \u001b[41mF14 \u001b[42mF15 \u001b[42mF16 \u001b[42mF17 \u001b[42mF18 \u001b[42mF19 \u001b[40m    \u001b[40m    \u001b[42mF21 \u001b[42mF22 \u001b[42mF23 \u001b[42mF24 \u001b[40m\n",
      "\u001b[40m    \u001b[40m    \u001b[40m    \u001b[41m G4 \u001b[41m G5 \u001b[40m    \u001b[40m    \u001b[40m    \u001b[42m G8 \u001b[42m G9 \u001b[42mG10 \u001b[42mG11 \u001b[42mG12 \u001b[41mG13 \u001b[41mG14 \u001b[42mG15 \u001b[41mG16 \u001b[41mG17 \u001b[41mG18 \u001b[41mG19 \u001b[40m    \u001b[40m    \u001b[42mG21 \u001b[42mG22 \u001b[42mG23 \u001b[42mG24 \u001b[40m\n",
      "\u001b[40m    \u001b[40m    \u001b[40m    \u001b[40m    \u001b[40m    \u001b[40m    \u001b[40m    \u001b[40m    \u001b[40m    \u001b[40m    \u001b[40m    \u001b[40m    \u001b[40m    \u001b[40m    \u001b[40m    \u001b[40m    \u001b[40m    \u001b[40m    \u001b[40m    \u001b[40m    \u001b[40m    \u001b[40m    \u001b[40m    \u001b[40m    \u001b[40m    \u001b[40m    \u001b[40m\n",
      "\u001b[42m H1 \u001b[42m H2 \u001b[42m H3 \u001b[42m H4 \u001b[42m H5 \u001b[40m    \u001b[40m    \u001b[40m    \u001b[41m H8 \u001b[41m H9 \u001b[41mH10 \u001b[41mH11 \u001b[41mH12 \u001b[41mH13 \u001b[41mH14 \u001b[41mH15 \u001b[41mH16 \u001b[41mH17 \u001b[41mH18 \u001b[41mH19 \u001b[40m    \u001b[40m    \u001b[41mH21 \u001b[41mH22 \u001b[42mH23 \u001b[42mH24 \u001b[40m\n",
      "\u001b[42m I1 \u001b[42m I2 \u001b[42m I3 \u001b[42m I4 \u001b[42m I5 \u001b[40m    \u001b[40m    \u001b[40m    \u001b[41m I8 \u001b[41m I9 \u001b[41mI10 \u001b[41mI11 \u001b[41mI12 \u001b[41mI13 \u001b[41mI14 \u001b[41mI15 \u001b[41mI16 \u001b[41mI17 \u001b[41mI18 \u001b[40m    \u001b[40m    \u001b[40m    \u001b[42mI21 \u001b[42mI22 \u001b[42mI23 \u001b[42mI24 \u001b[40m\n",
      "\u001b[42m J1 \u001b[42m J2 \u001b[42m J3 \u001b[42m J4 \u001b[42m J5 \u001b[40m    \u001b[40m    \u001b[40m    \u001b[41m J8 \u001b[41m J9 \u001b[42mJ10 \u001b[42mJ11 \u001b[42mJ12 \u001b[41mJ13 \u001b[41mJ14 \u001b[41mJ15 \u001b[41mJ16 \u001b[42mJ17 \u001b[42mJ18 \u001b[42mJ19 \u001b[40m    \u001b[40m    \u001b[42mJ21 \u001b[42mJ22 \u001b[42mJ23 \u001b[42mJ24 \u001b[40m\n",
      "\u001b[42m K1 \u001b[42m K2 \u001b[42m K3 \u001b[42m K4 \u001b[42m K5 \u001b[40m    \u001b[40m    \u001b[40m    \u001b[42m K8 \u001b[42m K9 \u001b[42mK10 \u001b[42mK11 \u001b[41mK12 \u001b[41mK13 \u001b[41mK14 \u001b[42mK15 \u001b[42mK16 \u001b[42mK17 \u001b[42mK18 \u001b[40m    \u001b[40m    \u001b[40m    \u001b[42mK21 \u001b[42mK22 \u001b[42mK23 \u001b[42mK24 \u001b[40m\n",
      "\u001b[42m L1 \u001b[42m L2 \u001b[42m L3 \u001b[42m L4 \u001b[42m L5 \u001b[40m    \u001b[42m L6 \u001b[41m L7 \u001b[42m L8 \u001b[42m L9 \u001b[41mL10 \u001b[41mL11 \u001b[41mL12 \u001b[41mL13 \u001b[42mL14 \u001b[42mL15 \u001b[42mL16 \u001b[42mL17 \u001b[42mL18 \u001b[41mL19 \u001b[41mL20 \u001b[40m    \u001b[42mL21 \u001b[42mL22 \u001b[42mL23 \u001b[42mL24 \u001b[40m\n",
      "\u001b[0m\n"
     ]
    }
   ],
   "source": [
    "book.set_screenings(cid, sid)\n",
    "\n",
    "response = book.set_ticket(discounted=1)\n",
    "\n",
    "# parse seat info\n",
    "seatdict = mm.seat.get_seat(response)\n",
    "\n",
    "# print layout\n",
    "layout = mm.seat.gen_layout(seatdict)\n",
    "mm.seat.print_seating_chart(layout)"
   ]
  },
  {
   "cell_type": "code",
   "execution_count": 11,
   "metadata": {},
   "outputs": [
    {
     "name": "stdout",
     "output_type": "stream",
     "text": [
      "\r\n",
      "\r\n",
      "<!DOCTYPE html>\r\n",
      "\r\n",
      "<html xmlns=\"http://www.w3.org/1999/xhtml\">\r\n",
      "<head><meta http-equiv=\"Content-Type\" content=\"text/html; charset=utf-8\" /><title>\r\n",
      "\t美麗華影城\r\n",
      "</title><link rel='image_src' type='image/jpeg' href='http://www.miramarcinemas.com.tw/img' /><link rel=\"shortcut icon\" href=\"favicon.ico\" /><link href=\"css/bootstrap.css?d=20170110\" rel=\"stylesheet\" type=\"text/css\" /><link href=\"css/normalize.css\" rel=\"stylesheet\" type=\"text/css\" /><link href=\"css/style.css?d=20170110\" rel=\"stylesheet\" type=\"text/css\" /><link rel=\"stylesheet\" href=\"css/owl.theme.css\" type=\"text/css\" /><link rel=\"stylesheet\" href=\"css/owl.carousel.css\" type=\"text/css\" /><link rel=\"stylesheet\" href=\"css/font.css\" type=\"text/css\" />  \r\n",
      "\r\n",
      "    <script type=\"text/javascript\" src=\"js/jquery-1.11.0.min.js\"></script>\r\n",
      "    <script src=\"js/autofullheight.js\" type=\"text/javascript\"></script>\r\n",
      "    <script type=\"text/javascript\" src=\"js/bootstrap.min.js\"></script>\r\n",
      "\r\n",
      "    \r\n",
      "    <link rel=\"stylesheet\" href=\"css/member-style.css\" type=\"text/css\" />\r\n",
      "    <link rel=\"stylesheet\" href=\"css/booking-style.css\" type=\"text/css\" />\r\n",
      "    <!-- fancyBox -->\r\n",
      "    <script type=\"text/javascript\" src=\"fancyBox/js/jquery.mousewheel-3.0.6.pack.js\"></script>\r\n",
      "    <script type=\"text/javascript\" src=\"fancyBox/js/jquery.fancybox.js?v=2.1.5\"></script>\r\n",
      "    <link rel=\"stylesheet\" type=\"text/css\" href=\"fancyBox/css/jquery.fancybox.css?v=2.1.5\" media=\"screen\" />\r\n",
      "    \r\n",
      "    <script>\r\n",
      "        $(function () {\r\n",
      "            $('.various').fancybox({\r\n",
      "                maxWidth: 900, maxHeight: 600, fitToView: false, width: 750, height: '70%',\r\n",
      "                autoSize: false, closeClick: false, openEffect: 'none', closeEffect: 'none',\r\n",
      "            });\r\n",
      "        });\r\n",
      "\t</script>\r\n",
      "<meta name=\"keywords\" content=\"美麗華影城,美麗華影城IMAX,美麗華大直影城, 美麗華大直IMAX,電影,購票,訂票,美麗華影城時刻表,美麗華,大直美麗華,台茂美麗華,大直,台茂,IMAX,看電影\" /><meta name=\"description\" /><meta property=\"og:title\" content=\"美麗華影城\" /><meta property=\"og:description\" /><meta property=\"og:image\" content=\"http://www.miramarcinemas.com.tw/img\" /></head>\r\n",
      "<body>\r\n",
      "    <div id=\"ctl00_wrap\">\r\n",
      "        <div id=\"header\">\r\n",
      "    \t    <div class=\"container clearfix\">\r\n",
      "                <div class=\"row\">\r\n",
      "                    <div class=\"span4\"><h1 class=\"logo\"><a href=\"index.aspx\">美麗華影城 MIRAMAR CINEMAS</a></h1></div>\r\n",
      "                    <div class=\"span5 offset3\">\r\n",
      "                \t    <ul><li>您好，<a href='member_info.aspx'>brian41005@gmail.com</a> <a href='member.ashx?method=logout'>登出</a></li>\r\n",
      "                            <li><a href=\"https://zh-tw.facebook.com/MiramarCinemas\" target=\"_blank\"><span class=\"facebook\">facebook</span>Follow us on </a></li>\r\n",
      "                        </ul>\r\n",
      "                    </div>\r\n",
      "                </div>\r\n",
      "            </div>\r\n",
      "        </div>\r\n",
      "        <div id=\"navigation\" >\r\n",
      "            <div class=\"container navbar\">\r\n",
      "            <ul class=\"nav clearfix\">\r\n",
      "            \t<li class=\"divider-vertical\"></li><li class=\"navigation-btn01\"><a  href=\"booking.aspx\">線上訂票 Online Booking</a></li>\r\n",
      "                <li class=\"divider-vertical\"></li><li class=\"navigation-btn02\"><a  href=\"membership_info_1.aspx\">爆爆卡俱樂部 Membership Info</a></li>\r\n",
      "                <li class=\"divider-vertical\"></li><li class=\"navigation-btn03\"><a  href=\"movie.aspx\">影片介紹Movie info</a></li>\r\n",
      "                <li class=\"divider-vertical\"></li><li class=\"navigation-btn04\"><a  href=\"events.aspx\">好康報報 Hot Promotions</a></li>\r\n",
      "                <li class=\"divider-vertical\"></li><li class=\"navigation-btn05\"><a  href=\"group.aspx\">團券專區 Group Booking</a></li>\r\n",
      "                <li class=\"divider-vertical\"></li><li class=\"navigation-btn06\"><a  href=\"aboutus_dazhi.aspx\">影城介紹 About us</a></li>\r\n",
      "                <li class=\"divider-vertical\"></li><li class=\"navigation-btn07\"><a  href=\"special.aspx\">特色影廳 Special Auditoriums</a></li>\r\n",
      "                <li class=\"divider-vertical\"></li>\r\n",
      "            </ul>\r\n",
      "            </div>\r\n",
      "        </div>\r\n",
      "\r\n",
      "        \r\n",
      "    <div id=\"main\">\r\n",
      "        <div class=\"container member-info\">\r\n",
      "    \t    <div class=\"row\">\r\n",
      "        \t    <div class=\"span8 member-subtitle booking-detail\">\r\n",
      "\t\t\t\t    <h2>您的訂票明細</h2>\r\n",
      "           \t\t    <div class=\"movie-booking clearfix\">\r\n",
      "\t\t\t\t\t    <ul><li>影城</li>\r\n",
      "                            <li id=\"ctl00_content_cinemaTab\">美麗華大直影城</li></ul>\r\n",
      "\t\t\t\t\t    <ul style=\"width:67%;\"><li>影片</li>\r\n",
      "                            <li id=\"ctl00_content_videoTab\">銀翼殺手 2049</li></ul>                  \r\n",
      "\t\t\t\t    </div>\r\n",
      "\t\t\t\t    <div class=\"movie-booking clearfix\">\r\n",
      "\t\t\t\t\t    <ul><li>日期</li>\r\n",
      "                            <li id=\"ctl00_content_showDateTab\">10 月 28 日 星期六</li></ul>\r\n",
      "\t\t\t\t\t    <ul><li>場次</li>\r\n",
      "                            <li id=\"ctl00_content_showTimeTab\">15:50</li></ul>\r\n",
      "\t\t\t\t    </div>\r\n",
      "                    <div class='movie-booking clearfix'><ul><li>票種</li><li>優待票 NT$ 260</li></ul><ul><li>張數</li><li>1</li></ul><ul><li>座位</li><li>F19</li></ul></div>\r\n",
      "\t\t\t\t    \r\n",
      "\t\t\t\t    <div class=\"movie-booking clearfix\">\r\n",
      "\t\t\t\t\t    <ul style=\"width:66%;\">\r\n",
      "                            <li>Booking Fee (Unpaid Booking)</li>\r\n",
      "\t\t\t\t\t\t    <li>NT$ 20</li></ul>\r\n",
      "\t\t\t\t\t    <ul><li>購買總價</li>\r\n",
      "\t\t\t\t\t\t    <li>NT$ 280 (內含娛樂稅)</li></ul>        \r\n",
      "\t\t\t\t    </div>\r\n",
      "                    <script>\r\n",
      "\t\t\t\t\tfunction formChk(){\r\n",
      "\t\t\t\t\t\talertArr = Array();\r\n",
      "\t\t\t\t\t\t$(\".required\").each(function(i, e) {\r\n",
      "\t\t\t\t\t\t    if(!$.trim($(this).val())) alertArr.push($(this).attr(\"title\"));\r\n",
      "\t\t\t\t\t\t});\r\n",
      "\t\t\t\t\t\tif (!$(\".chkMail\").val().match(/^([a-zA-Z0-9._%-]+@[a-zA-Z0-9.-]+\\.[a-zA-Z]{2,4})*$/)) alertArr.push(\"電子郵件格式錯誤，請輸入正確的電子郵件!\");\r\n",
      "\t\t\t\t\t\tif (!$('.chkPhone').val().match(/^09[0-9]{8}$/)) alertArr.push(\"手機欄位格式不對，請重新輸入!\");\r\n",
      "\t\t\t\t\t\tif (!$(\"#readConfirm\").is(\":checked\")) alertArr.push(\"您未同意訂票使用須知\");\r\n",
      "\t\t\t\t\t\tif(alertArr.length>0){\r\n",
      "\t\t\t\t\t\t\talert(alertArr.join(\"\\n\")); return false;\r\n",
      "\t\t\t\t\t\t}else{\r\n",
      "\t\t\t\t\t\t\treturn true;\r\n",
      "\t\t\t\t\t\t}\r\n",
      "\t\t\t\t\t}\r\n",
      "\t\t\t\t\t</script>\r\n",
      "           \t\t    \r\n",
      "                    <div class=\"booking-agree\">\r\n",
      "                        <h4>訂票時請務必輸入您的電子郵件、姓名及手機號碼\t</h4>\r\n",
      "                        <form name=\"aspnetForm\" method=\"post\" action=\"booking_confirm.aspx\" id=\"aspnetForm\" class=\"form-horizontal\">\r\n",
      "<div>\r\n",
      "<input type=\"hidden\" name=\"__EVENTTARGET\" id=\"__EVENTTARGET\" value=\"\" />\r\n",
      "<input type=\"hidden\" name=\"__EVENTARGUMENT\" id=\"__EVENTARGUMENT\" value=\"\" />\r\n",
      "<input type=\"hidden\" name=\"__VIEWSTATE\" id=\"__VIEWSTATE\" value=\"/wEPDwULLTE4MzcxMjg3NzMPZBYCZg9kFgYCAQ9kFgICAg8WAh4EVGV4dAVWPGxpbmsgcmVsPSdpbWFnZV9zcmMnIHR5cGU9J2ltYWdlL2pwZWcnIGhyZWY9J2h0dHA6Ly93d3cubWlyYW1hcmNpbmVtYXMuY29tLnR3L2ltZycgLz5kAgMPZBYCAgEPFgIfAAV0PGxpPuaCqOWlve+8jDxhIGhyZWY9J21lbWJlcl9pbmZvLmFzcHgnPmJyaWFuNDEwMDVAZ21haWwuY29tPC9hPiA8YSBocmVmPSdtZW1iZXIuYXNoeD9tZXRob2Q9bG9nb3V0Jz7nmbvlh7o8L2E+PC9saT5kAgUPZBYOAgEPFgIeCWlubmVyaHRtbAUV576O6bqX6I+v5aSn55u05b2x5Z+OZAIDDxYCHwEFEemKgOe/vOauuuaJiyAyMDQ5ZAIFDxYCHwEFFzEwIOaciCAyOCDml6Ug5pif5pyf5YWtZAIHDxYCHwEFBTE1OjUwZAIJDxYCHwAFogE8ZGl2IGNsYXNzPSdtb3ZpZS1ib29raW5nIGNsZWFyZml4Jz48dWw+PGxpPuelqOeorjwvbGk+PGxpPuWEquW+heelqCBOVCQgMjYwPC9saT48L3VsPjx1bD48bGk+5by15pW4PC9saT48bGk+MTwvbGk+PC91bD48dWw+PGxpPuW6p+S9jTwvbGk+PGxpPkYxOTwvbGk+PC91bD48L2Rpdj5kAgsPFgIfAAUCMjBkAg0PFgIfAAUDMjgwZGQVe7QdxzGs3Aq/if34A0X6pzyYMQ==\" />\r\n",
      "</div>\r\n",
      "\r\n",
      "<script type=\"text/javascript\">\r\n",
      "//<![CDATA[\r\n",
      "var theForm = document.forms['aspnetForm'];\r\n",
      "if (!theForm) {\r\n",
      "    theForm = document.aspnetForm;\r\n",
      "}\r\n",
      "function __doPostBack(eventTarget, eventArgument) {\r\n",
      "    if (!theForm.onsubmit || (theForm.onsubmit() != false)) {\r\n",
      "        theForm.__EVENTTARGET.value = eventTarget;\r\n",
      "        theForm.__EVENTARGUMENT.value = eventArgument;\r\n",
      "        theForm.submit();\r\n",
      "    }\r\n",
      "}\r\n",
      "//]]>\r\n",
      "</script>\r\n",
      "\r\n",
      "\r\n",
      "<div>\r\n",
      "\r\n",
      "\t<input type=\"hidden\" name=\"__VIEWSTATEGENERATOR\" id=\"__VIEWSTATEGENERATOR\" value=\"6304DB99\" />\r\n",
      "\t<input type=\"hidden\" name=\"__EVENTVALIDATION\" id=\"__EVENTVALIDATION\" value=\"/wEWCwLB6YqMDQLjivf8DQKWz7m9DwLbtLDyAwLG84erDAKg5MOBAgKb76CBBALflo+DCgKD+pNSAsCXt4cCArmKoYYJb/CdTG4iLEVRc/yeD3uFyXfSROk=\" />\r\n",
      "</div>\r\n",
      "                            <div class=\"control-group\">\r\n",
      "                                <label class=\"span2\">*電子郵件</label>\r\n",
      "                                <div><input name=\"ctl00$content$userMail\" type=\"text\" value=\"brian41005@gmail.com\" id=\"ctl00_content_userMail\" title=\"請輸入電子郵件\" class=\"span4 chkMail required\" /></div>\r\n",
      "\t\t\t\t\t\t    </div>\r\n",
      "\t\t\t\t\t\t    <div class=\"control-group\">\r\n",
      "\t\t\t\t\t\t\t    <label class=\"span2\">*會員姓名</label>\r\n",
      "\t\t\t\t\t\t\t    <div><input name=\"ctl00$content$userName\" type=\"text\" value=\"馬 茂源\" id=\"ctl00_content_userName\" title=\"請輸入會員姓名\" class=\"span4 required\" /></div>\r\n",
      "\t\t\t\t\t\t    </div>\r\n",
      "\t\t\t\t\t\t    <div class=\"control-group\">\r\n",
      "\t\t\t\t\t\t\t    <label class=\"span2\">*手機號碼</label>\r\n",
      "\t\t\t\t\t\t\t    <div><input name=\"ctl00$content$userPhone\" type=\"text\" value=\"0970881204\" id=\"ctl00_content_userPhone\" title=\"請輸入手機號碼\" class=\"span4 chkPhone required\" /></div>\r\n",
      "\t\t\t\t\t\t    </div>\r\n",
      "\t\t\t\t\t\t    <div class=\"control-group\">\r\n",
      "\t\t\t\t\t\t\t    <label class=\"span2\"></label>\r\n",
      "\t\t\t\t\t\t\t    <div class=\"checkbox inline\">\r\n",
      "                                    <input id=\"readConfirm\" type=\"checkbox\">\r\n",
      "\t\t\t\t\t\t\t\t    我已經閱讀並同意 <a class=\"various\" href=\"#inline\"> 使用須知</a>\r\n",
      "                                    <input type=\"hidden\" name=\"ctl00$content$wsessid\" id=\"ctl00_content_wsessid\" value=\"800540\" />\r\n",
      "                                    <input type=\"hidden\" name=\"ctl00$content$wcineid\" id=\"ctl00_content_wcineid\" value=\"1001\" />\r\n",
      "\t\t\t\t\t\t\t    </div>\r\n",
      "\t\t\t\t\t\t    </div>\r\n",
      "          \t\t\t\t    <div class=\"control-group desc-login-btn offset2\">\r\n",
      "\t\t\t\t\t\t\t    <button onclick=\"if(!formChk()) return false; __doPostBack('ctl00$content$ctl01','')\" type=\"button\">立即訂票</button>\r\n",
      "\t\t\t\t\t\t    </div>\r\n",
      "          \t\t\t\t    <div class=\"booking-warning\">\r\n",
      "                                <p>當您按下立即訂票鍵後，您的交易將進行處理並不能更改。<br />若欲更正，請按下列按鍵進行修改</p>\r\n",
      "                                <button onclick=\"__doPostBack('ctl00$content$btnReset','')\" id=\"ctl00_content_btnReset\">更換票種及張數</button>\r\n",
      "                                <button onclick=\"__doPostBack('ctl00$content$btnCancel','')\" id=\"ctl00_content_btnCancel\">取消</button>\r\n",
      "                                <input type=\"hidden\" name=\"ctl00$content$iptTotal\" id=\"ctl00_content_iptTotal\" value=\"28000\" />\r\n",
      "          \t\t\t\t    </div>\r\n",
      "                            <input type=\"hidden\" name=\"ctl00$content$orderNo\" id=\"ctl00_content_orderNo\" />\r\n",
      "           \t\t\t    </form>\r\n",
      "\t\t\t\t\t    <div id=\"inline\" style=\"display:none\">\r\n",
      "\t\t\t\t\t\t    <h2>線上訂票須知</h2>\r\n",
      "                            <p>\r\n",
      "                                美麗華影城營業日為當日早上06:00到隔日早上06:00的時間。<br />\r\n",
      "                                範例1：您若要觀賞1月1日(跨年後)星期四凌晨01:00的電影，在訂票時請選擇12月31日星期三01:00的這一場電影。<br />\r\n",
      "                                範例2：場次顯示為1月31日星期五凌晨12:30，代表實際放映時間為隔天2月1日星期六凌晨12:30的電影。\r\n",
      "                            </p>\r\n",
      "                            \r\n",
      "                            <h3>1.關於購票總價? </h3>\r\n",
      "                            <p>除了電影票價外，每一張票將酌收手續費20 元，手續費不得退費。在確認您的訂購前，每一筆金額均會詳細列出。</p>\r\n",
      "\r\n",
      "                            <h3>2.我可以訂購多少張電影票?</h3>\r\n",
      "                            <p>每一筆交易最多可訂購 6 張票，但不限交易次數。</p>\r\n",
      "\r\n",
      "                            <h3>3.如何取票?</h3>\r\n",
      "                            <p>在您完成訂購之後，為了取票順利，請您於開演前40分鐘至售票處或販賣部完成取票動作，否則您的訂票將被自動取消。\u000b",
      "</p>\r\n",
      "\r\n",
      "                            <h3>4.什麼是電影分級? </h3>\r\n",
      "                            <p>所有在公共場合播映的影片都要分級，分下列四種標準分級：\r\n",
      "                                <ul>\r\n",
      "                                    <li>G 普遍級=一般觀眾皆可觀賞。 </li>\r\n",
      "                                    <li>PG 輔導級=未滿十二歲之兒童不得觀賞，十二歲以上十八歲未滿之少年需父母或師長注意輔導觀賞。</li>\r\n",
      "                                    <li>P 保護級=未滿六歲之兒童不得觀賞，六歲以上十二歲未滿之兒童須父母、師長或成年親友陪伴輔導觀賞。 </li>\r\n",
      "                                    <li>R 限制級=未滿十八歲之人不得觀賞。</li>\r\n",
      "                                </ul>\r\n",
      "                            </p>\r\n",
      "                            \r\n",
      "                            <h3>5.為方便現場工作人員確認您所訂購的電影票價及落實電影分級制度請攜帶能證明年齡的證件，於現場購票或領取事先已訂好之電影票時，供工作人員查驗。</h3>\r\n",
      "                            \r\n",
      "                            <h3>6.退換電影票規定? </h3>\r\n",
      "                            <p>請在電影開演前20分鐘辦理退換電影票。更換電影票僅限有剩餘座位的場次。退款時，請攜帶原購票之信用卡辦退款。請注意手續費恕不退還。</p>\r\n",
      "                            <h3>7.請問是否可以攜帶漢堡、炸雞進入影廳觀賞電影？</h3>\r\n",
      "                            <p>禁止攜帶熱食進入影廳觀賞電影，熱食類包含漢堡、炸雞，氣味較重食物.</p>\r\n",
      "\r\n",
      "\t\t\t\t\t    </div>\r\n",
      "          \t\t\t</div>\r\n",
      "                </div>\r\n",
      "\t\t\t    <div class=\"span4\">\r\n",
      "\t\t\t\t    <div class=\"desc-notice\">\r\n",
      "\t\t\t\t\t    <h3>Welcome 美麗華影城</h3>\r\n",
      "\t\t\t\t\t    <ul>\r\n",
      "\t\t\t\t\t\t    <li>美麗華影城營業日為當日早上06:00到隔日早上06:00的時間。</li>\r\n",
      "\t\t\t\t\t\t    <li>範例：您若要觀賞1月1日(跨年後)星期四凌晨01:00的電影，在訂票首頁選擇場次時請選擇12月31日星期三01:00的這一場電影。上列顯示日期場次即為您要觀賞電影的正確時間。 </li>\r\n",
      "\t\t\t\t\t    </ul>\r\n",
      "\t\t\t\t\t\r\n",
      "\t\t\t\t\t    <h3>貼心小提醒</h3>\r\n",
      "\t\t\t\t\t    <ul>\r\n",
      "\t\t\t\t\t\t    <li>核卡禮贈送之電影票及餐飲使用期限3個月，逾期視同放棄無法兌換。</li>\r\n",
      "\t\t\t\t\t\t    <li>提醒您網路會員如訂票6個月內累計超過3次(含3次)未取票，美麗華影城將自動停止您的帳號訂票使用權3個月。</li>\r\n",
      "\t\t\t\t\t\t    <li>請勿攜帶熱食進入影廳觀賞電影，熱食類包含炸雞、滷味、披薩，氣味較重食物。請注意：皇家影城禁止攜帶外食進入影廳。</li>\r\n",
      "\t\t\t\t\t\t    <li>請確認上列之電影、日期、場次是否正確。購買優待票種請於取票時出示您的證件確認。</li>\r\n",
      "\t\t\t\t\t    </ul>\r\n",
      "\t\t\t\t    </div>\r\n",
      "                </div>\r\n",
      "            </div>\r\n",
      "        </div>   \t\r\n",
      "    </div>\r\n",
      "\r\n",
      "    </div>\r\n",
      "    <div id=\"footer\" class=\"bg-inside\">\r\n",
      "\t    <div class=\"container auditoriums clearfix\">\r\n",
      "    \t    <ul>\r\n",
      "        \t    <li><a href=\"special.aspx\"><img src=\"img/img_auditoriums_1.png\" alt=\"標準廳\" /></a></li>\r\n",
      "                <li><a href=\"special-1.aspx\"><img src=\"img/img_auditoriums_2.png\" alt=\"M Club\" /></a></li>\r\n",
      "                <li><a href=\"aboutus_dazhi_royal.aspx\"><img src=\"img/img_aboutus_dazhi_royal_logo.png\" alt=\"大直皇家影城\" /></a></li>\r\n",
      "                <li><a href=\"/imax\" target=\"_blank\"><img src=\"img/img_auditoriums_3.png\" alt=\"IMAX\"/></a></li>\r\n",
      "\r\n",
      "                <li><a href=\"/auro\" target=\"_blank\"><img src=\"img/img_auditoriums_5.png\" alt=\"Auro立體聲道影廳\" /></a></li>\r\n",
      "            </ul>\r\n",
      "\t    </div>\r\n",
      "        <div class=\"container clearfix\">\r\n",
      "    \t    <div class=\"row\">\r\n",
      "    \t\t    <div class=\"span8 copy\"\r\n",
      "                <span class=\"copy-en\">Copyright © 2014 Miramar Cinemas. All Rights Reserved.\r\n",
      "                    <br />美麗華大直影城<a href=\"tel:0285022208\">02-8502-2208</a>&nbsp;&nbsp;&nbsp;美麗華台茂影城<a href=\"tel:033113123\">03-311-3123</a>&nbsp;&nbsp;&nbsp;美麗華大直皇家影城<a href=\"tel:0277188588\">02-7718-8588</a>&nbsp;&nbsp;&nbsp;美麗華台茂皇家影城<a href=\"tel:033113119\">03-311-3119</a></span>\r\n",
      "                </div>\r\n",
      "                <div class=\"span4 other\">\r\n",
      "        \t        <ul>\r\n",
      "               \t        <li><a href=\"mailto:service@miramarcinemas.com.tw\">聯絡我們</a></li>\r\n",
      "                        <li><a href=\"faq.aspx\">常見問題</a></li>\r\n",
      "                        <li><a href=\"wanted.aspx\">人才招募</a></li>\r\n",
      "                    </ul>\r\n",
      "                </div>\r\n",
      "            </div>\r\n",
      "        </div>\r\n",
      "    </div>\r\n",
      "    <script src=\"js/toTop/easing.js\" type=\"text/javascript\"></script>\r\n",
      "    <script src=\"js/toTop/jquery.ui.totop.js\" type=\"text/javascript\"></script>\r\n",
      "\t<script>\r\n",
      "\t(function(i,s,o,g,r,a,m){i['GoogleAnalyticsObject']=r;i[r]=i[r]||function(){\r\n",
      "\t(i[r].q=i[r].q||[]).push(arguments)},i[r].l=1*new Date();a=s.createElement(o),\r\n",
      "\tm=s.getElementsByTagName(o)[0];a.async=1;a.src=g;m.parentNode.insertBefore(a,m)\r\n",
      "\t})(window,document,'script','//www.google-analytics.com/analytics.js','ga');\r\n",
      "\t\r\n",
      "\tga('create', 'UA-45416318-4', 'auto');\r\n",
      "\tga('send', 'pageview');\r\n",
      "\t\r\n",
      "\t</script>\r\n",
      "</body>\r\n",
      "</html>\r\n",
      "\n"
     ]
    }
   ],
   "source": [
    "# set seat\n",
    "response = book.set_seat([seatdict['B12'][0],\n",
    "                          seatdict['B11'][0]])\n",
    "\n",
    "# you will seat final confirm page\n",
    "print(response.content.decode())"
   ]
  },
  {
   "cell_type": "code",
   "execution_count": 12,
   "metadata": {},
   "outputs": [
    {
     "data": {
      "text/plain": [
       "<Response [200]>"
      ]
     },
     "execution_count": 12,
     "metadata": {},
     "output_type": "execute_result"
    }
   ],
   "source": [
    "# confirm\n",
    "book.confirm()"
   ]
  },
  {
   "cell_type": "code",
   "execution_count": null,
   "metadata": {},
   "outputs": [],
   "source": []
  }
 ],
 "metadata": {
  "kernelspec": {
   "display_name": "Python 3",
   "language": "python",
   "name": "python3"
  },
  "language_info": {
   "codemirror_mode": {
    "name": "ipython",
    "version": 3
   },
   "file_extension": ".py",
   "mimetype": "text/x-python",
   "name": "python",
   "nbconvert_exporter": "python",
   "pygments_lexer": "ipython3",
   "version": "3.6.3"
  }
 },
 "nbformat": 4,
 "nbformat_minor": 2
}
